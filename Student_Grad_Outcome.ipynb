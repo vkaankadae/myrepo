{
  "nbformat": 4,
  "nbformat_minor": 0,
  "metadata": {
    "colab": {
      "name": "Student_Grad_Outcome.ipynb",
      "provenance": [],
      "collapsed_sections": [],
      "toc_visible": true,
      "authorship_tag": "ABX9TyN+jMdskKkl7tyci5NKD0ig",
      "include_colab_link": true
    },
    "kernelspec": {
      "name": "python3",
      "display_name": "Python 3"
    }
  },
  "cells": [
    {
      "cell_type": "markdown",
      "metadata": {
        "id": "view-in-github",
        "colab_type": "text"
      },
      "source": [
        "<a href=\"https://colab.research.google.com/github/vkaankadae/myrepo/blob/master/Student_Grad_Outcome.ipynb\" target=\"_parent\"><img src=\"https://colab.research.google.com/assets/colab-badge.svg\" alt=\"Open In Colab\"/></a>"
      ]
    },
    {
      "cell_type": "markdown",
      "metadata": {
        "id": "zLdWVqvkaKJy",
        "colab_type": "text"
      },
      "source": [
        "**Student Dropout analysis** - 2015 Cohort 4yr Grad Outcome Dataset of NYC schools"
      ]
    },
    {
      "cell_type": "code",
      "metadata": {
        "id": "IuiOcNIhaNX1",
        "colab_type": "code",
        "colab": {}
      },
      "source": [
        "# import libraries\n",
        "import numpy as np\n",
        "import pandas as pd\n",
        "import matplotlib.pyplot as plt\n",
        "import seaborn as sb\n",
        "\n",
        "%matplotlib inline"
      ],
      "execution_count": 7,
      "outputs": []
    },
    {
      "cell_type": "code",
      "metadata": {
        "id": "1-eqBNzpgp2O",
        "colab_type": "code",
        "colab": {}
      },
      "source": [
        "url = 'https://github.com/vkaankadae/myrepo/blob/master/GRAD_RATE_OUTCOMES_2018-19.xlsx?raw=true'\n",
        "df_data = pd.read_excel(url)"
      ],
      "execution_count": 17,
      "outputs": []
    },
    {
      "cell_type": "code",
      "metadata": {
        "id": "SuazCIODah0A",
        "colab_type": "code",
        "colab": {
          "base_uri": "https://localhost:8080/",
          "height": 467
        },
        "outputId": "2e606de3-2c77-45c2-aec2-ee16dccd9f0d"
      },
      "source": [
        "df_data.head()"
      ],
      "execution_count": 18,
      "outputs": [
        {
          "output_type": "execute_result",
          "data": {
            "text/html": [
              "<div>\n",
              "<style scoped>\n",
              "    .dataframe tbody tr th:only-of-type {\n",
              "        vertical-align: middle;\n",
              "    }\n",
              "\n",
              "    .dataframe tbody tr th {\n",
              "        vertical-align: top;\n",
              "    }\n",
              "\n",
              "    .dataframe thead th {\n",
              "        text-align: right;\n",
              "    }\n",
              "</style>\n",
              "<table border=\"1\" class=\"dataframe\">\n",
              "  <thead>\n",
              "    <tr style=\"text-align: right;\">\n",
              "      <th></th>\n",
              "      <th>school_name</th>\n",
              "      <th>nrc_code</th>\n",
              "      <th>nrc_desc</th>\n",
              "      <th>county_name</th>\n",
              "      <th>group_code</th>\n",
              "      <th>group_name</th>\n",
              "      <th>enroll_cnt</th>\n",
              "      <th>grad_cnt</th>\n",
              "      <th>grad_pct</th>\n",
              "      <th>still_enr_cnt</th>\n",
              "      <th>still_enr_pct</th>\n",
              "      <th>ged_cnt</th>\n",
              "      <th>ged_pct</th>\n",
              "      <th>dropout_cnt</th>\n",
              "      <th>dropout_pct</th>\n",
              "    </tr>\n",
              "  </thead>\n",
              "  <tbody>\n",
              "    <tr>\n",
              "      <th>0</th>\n",
              "      <td>ALBANY HIGH SCHOOL</td>\n",
              "      <td>3</td>\n",
              "      <td>Urban-Suburban High Needs</td>\n",
              "      <td>ALBANY</td>\n",
              "      <td>1</td>\n",
              "      <td>Female</td>\n",
              "      <td>336</td>\n",
              "      <td>249</td>\n",
              "      <td>0.74</td>\n",
              "      <td>34</td>\n",
              "      <td>0.10</td>\n",
              "      <td>2</td>\n",
              "      <td>0.01</td>\n",
              "      <td>49</td>\n",
              "      <td>0.15</td>\n",
              "    </tr>\n",
              "    <tr>\n",
              "      <th>1</th>\n",
              "      <td>ALBANY HIGH SCHOOL</td>\n",
              "      <td>3</td>\n",
              "      <td>Urban-Suburban High Needs</td>\n",
              "      <td>ALBANY</td>\n",
              "      <td>2</td>\n",
              "      <td>Male</td>\n",
              "      <td>352</td>\n",
              "      <td>221</td>\n",
              "      <td>0.63</td>\n",
              "      <td>56</td>\n",
              "      <td>0.16</td>\n",
              "      <td>5</td>\n",
              "      <td>0.01</td>\n",
              "      <td>65</td>\n",
              "      <td>0.18</td>\n",
              "    </tr>\n",
              "    <tr>\n",
              "      <th>2</th>\n",
              "      <td>ALBANY HIGH SCHOOL</td>\n",
              "      <td>3</td>\n",
              "      <td>Urban-Suburban High Needs</td>\n",
              "      <td>ALBANY</td>\n",
              "      <td>4</td>\n",
              "      <td>American Indian/Alaska Native</td>\n",
              "      <td>0</td>\n",
              "      <td>0</td>\n",
              "      <td>0.00</td>\n",
              "      <td>0</td>\n",
              "      <td>0.00</td>\n",
              "      <td>0</td>\n",
              "      <td>0.00</td>\n",
              "      <td>0</td>\n",
              "      <td>0.00</td>\n",
              "    </tr>\n",
              "    <tr>\n",
              "      <th>3</th>\n",
              "      <td>ALBANY HIGH SCHOOL</td>\n",
              "      <td>3</td>\n",
              "      <td>Urban-Suburban High Needs</td>\n",
              "      <td>ALBANY</td>\n",
              "      <td>5</td>\n",
              "      <td>Black</td>\n",
              "      <td>351</td>\n",
              "      <td>223</td>\n",
              "      <td>0.64</td>\n",
              "      <td>46</td>\n",
              "      <td>0.13</td>\n",
              "      <td>5</td>\n",
              "      <td>0.01</td>\n",
              "      <td>70</td>\n",
              "      <td>0.20</td>\n",
              "    </tr>\n",
              "    <tr>\n",
              "      <th>4</th>\n",
              "      <td>ALBANY HIGH SCHOOL</td>\n",
              "      <td>3</td>\n",
              "      <td>Urban-Suburban High Needs</td>\n",
              "      <td>ALBANY</td>\n",
              "      <td>6</td>\n",
              "      <td>Hispanic</td>\n",
              "      <td>110</td>\n",
              "      <td>72</td>\n",
              "      <td>0.65</td>\n",
              "      <td>17</td>\n",
              "      <td>0.15</td>\n",
              "      <td>2</td>\n",
              "      <td>0.02</td>\n",
              "      <td>19</td>\n",
              "      <td>0.17</td>\n",
              "    </tr>\n",
              "  </tbody>\n",
              "</table>\n",
              "</div>"
            ],
            "text/plain": [
              "          school_name  nrc_code  ... dropout_cnt dropout_pct\n",
              "0  ALBANY HIGH SCHOOL         3  ...          49        0.15\n",
              "1  ALBANY HIGH SCHOOL         3  ...          65        0.18\n",
              "2  ALBANY HIGH SCHOOL         3  ...           0        0.00\n",
              "3  ALBANY HIGH SCHOOL         3  ...          70        0.20\n",
              "4  ALBANY HIGH SCHOOL         3  ...          19        0.17\n",
              "\n",
              "[5 rows x 15 columns]"
            ]
          },
          "metadata": {
            "tags": []
          },
          "execution_count": 18
        }
      ]
    },
    {
      "cell_type": "code",
      "metadata": {
        "id": "r4B4ISOGg9hz",
        "colab_type": "code",
        "colab": {
          "base_uri": "https://localhost:8080/",
          "height": 407
        },
        "outputId": "af4be8ad-6e2c-40a2-a324-91ce0faff678"
      },
      "source": [
        "df_data.info()"
      ],
      "execution_count": 19,
      "outputs": [
        {
          "output_type": "stream",
          "text": [
            "<class 'pandas.core.frame.DataFrame'>\n",
            "RangeIndex: 18408 entries, 0 to 18407\n",
            "Data columns (total 15 columns):\n",
            " #   Column         Non-Null Count  Dtype  \n",
            "---  ------         --------------  -----  \n",
            " 0   school_name    18408 non-null  object \n",
            " 1   nrc_code       18408 non-null  int64  \n",
            " 2   nrc_desc       18408 non-null  object \n",
            " 3   county_name    18408 non-null  object \n",
            " 4   group_code     18408 non-null  int64  \n",
            " 5   group_name     18408 non-null  object \n",
            " 6   enroll_cnt     18408 non-null  int64  \n",
            " 7   grad_cnt       18408 non-null  int64  \n",
            " 8   grad_pct       18408 non-null  float64\n",
            " 9   still_enr_cnt  18408 non-null  int64  \n",
            " 10  still_enr_pct  18408 non-null  float64\n",
            " 11  ged_cnt        18408 non-null  int64  \n",
            " 12  ged_pct        18408 non-null  float64\n",
            " 13  dropout_cnt    18408 non-null  int64  \n",
            " 14  dropout_pct    18408 non-null  float64\n",
            "dtypes: float64(4), int64(7), object(4)\n",
            "memory usage: 2.1+ MB\n"
          ],
          "name": "stdout"
        }
      ]
    },
    {
      "cell_type": "code",
      "metadata": {
        "id": "CuQOkhHYiSbc",
        "colab_type": "code",
        "colab": {
          "base_uri": "https://localhost:8080/",
          "height": 1000
        },
        "outputId": "df46a7e8-b8d8-440c-f9ed-6b1eedc77e87"
      },
      "source": [
        "df_data[df_data.duplicated()]"
      ],
      "execution_count": 20,
      "outputs": [
        {
          "output_type": "execute_result",
          "data": {
            "text/html": [
              "<div>\n",
              "<style scoped>\n",
              "    .dataframe tbody tr th:only-of-type {\n",
              "        vertical-align: middle;\n",
              "    }\n",
              "\n",
              "    .dataframe tbody tr th {\n",
              "        vertical-align: top;\n",
              "    }\n",
              "\n",
              "    .dataframe thead th {\n",
              "        text-align: right;\n",
              "    }\n",
              "</style>\n",
              "<table border=\"1\" class=\"dataframe\">\n",
              "  <thead>\n",
              "    <tr style=\"text-align: right;\">\n",
              "      <th></th>\n",
              "      <th>school_name</th>\n",
              "      <th>nrc_code</th>\n",
              "      <th>nrc_desc</th>\n",
              "      <th>county_name</th>\n",
              "      <th>group_code</th>\n",
              "      <th>group_name</th>\n",
              "      <th>enroll_cnt</th>\n",
              "      <th>grad_cnt</th>\n",
              "      <th>grad_pct</th>\n",
              "      <th>still_enr_cnt</th>\n",
              "      <th>still_enr_pct</th>\n",
              "      <th>ged_cnt</th>\n",
              "      <th>ged_pct</th>\n",
              "      <th>dropout_cnt</th>\n",
              "      <th>dropout_pct</th>\n",
              "    </tr>\n",
              "  </thead>\n",
              "  <tbody>\n",
              "    <tr>\n",
              "      <th>8732</th>\n",
              "      <td>NEW VISIONS CHARTER HIGH SCHOOL FOR ADVANCED M...</td>\n",
              "      <td>7</td>\n",
              "      <td>Charters</td>\n",
              "      <td>BRONX</td>\n",
              "      <td>4</td>\n",
              "      <td>American Indian/Alaska Native</td>\n",
              "      <td>0</td>\n",
              "      <td>0</td>\n",
              "      <td>0.0</td>\n",
              "      <td>0</td>\n",
              "      <td>0.0</td>\n",
              "      <td>0</td>\n",
              "      <td>0.0</td>\n",
              "      <td>0</td>\n",
              "      <td>0.0</td>\n",
              "    </tr>\n",
              "    <tr>\n",
              "      <th>8735</th>\n",
              "      <td>NEW VISIONS CHARTER HIGH SCHOOL FOR ADVANCED M...</td>\n",
              "      <td>7</td>\n",
              "      <td>Charters</td>\n",
              "      <td>BRONX</td>\n",
              "      <td>7</td>\n",
              "      <td>Asian/Pacific Islander</td>\n",
              "      <td>0</td>\n",
              "      <td>0</td>\n",
              "      <td>0.0</td>\n",
              "      <td>0</td>\n",
              "      <td>0.0</td>\n",
              "      <td>0</td>\n",
              "      <td>0.0</td>\n",
              "      <td>0</td>\n",
              "      <td>0.0</td>\n",
              "    </tr>\n",
              "    <tr>\n",
              "      <th>8736</th>\n",
              "      <td>NEW VISIONS CHARTER HIGH SCHOOL FOR ADVANCED M...</td>\n",
              "      <td>7</td>\n",
              "      <td>Charters</td>\n",
              "      <td>BRONX</td>\n",
              "      <td>8</td>\n",
              "      <td>White</td>\n",
              "      <td>0</td>\n",
              "      <td>0</td>\n",
              "      <td>0.0</td>\n",
              "      <td>0</td>\n",
              "      <td>0.0</td>\n",
              "      <td>0</td>\n",
              "      <td>0.0</td>\n",
              "      <td>0</td>\n",
              "      <td>0.0</td>\n",
              "    </tr>\n",
              "    <tr>\n",
              "      <th>8737</th>\n",
              "      <td>NEW VISIONS CHARTER HIGH SCHOOL FOR ADVANCED M...</td>\n",
              "      <td>7</td>\n",
              "      <td>Charters</td>\n",
              "      <td>BRONX</td>\n",
              "      <td>9</td>\n",
              "      <td>Multiracial</td>\n",
              "      <td>0</td>\n",
              "      <td>0</td>\n",
              "      <td>0.0</td>\n",
              "      <td>0</td>\n",
              "      <td>0.0</td>\n",
              "      <td>0</td>\n",
              "      <td>0.0</td>\n",
              "      <td>0</td>\n",
              "      <td>0.0</td>\n",
              "    </tr>\n",
              "    <tr>\n",
              "      <th>8742</th>\n",
              "      <td>NEW VISIONS CHARTER HIGH SCHOOL FOR ADVANCED M...</td>\n",
              "      <td>7</td>\n",
              "      <td>Charters</td>\n",
              "      <td>BRONX</td>\n",
              "      <td>14</td>\n",
              "      <td>Formerly English Language Learner</td>\n",
              "      <td>7</td>\n",
              "      <td>7</td>\n",
              "      <td>1.0</td>\n",
              "      <td>0</td>\n",
              "      <td>0.0</td>\n",
              "      <td>0</td>\n",
              "      <td>0.0</td>\n",
              "      <td>0</td>\n",
              "      <td>0.0</td>\n",
              "    </tr>\n",
              "    <tr>\n",
              "      <th>8745</th>\n",
              "      <td>NEW VISIONS CHARTER HIGH SCHOOL FOR ADVANCED M...</td>\n",
              "      <td>7</td>\n",
              "      <td>Charters</td>\n",
              "      <td>BRONX</td>\n",
              "      <td>20</td>\n",
              "      <td>Homeless</td>\n",
              "      <td>0</td>\n",
              "      <td>0</td>\n",
              "      <td>0.0</td>\n",
              "      <td>0</td>\n",
              "      <td>0.0</td>\n",
              "      <td>0</td>\n",
              "      <td>0.0</td>\n",
              "      <td>0</td>\n",
              "      <td>0.0</td>\n",
              "    </tr>\n",
              "    <tr>\n",
              "      <th>8746</th>\n",
              "      <td>NEW VISIONS CHARTER HIGH SCHOOL FOR ADVANCED M...</td>\n",
              "      <td>7</td>\n",
              "      <td>Charters</td>\n",
              "      <td>BRONX</td>\n",
              "      <td>21</td>\n",
              "      <td>Not Homeless</td>\n",
              "      <td>0</td>\n",
              "      <td>0</td>\n",
              "      <td>0.0</td>\n",
              "      <td>0</td>\n",
              "      <td>0.0</td>\n",
              "      <td>0</td>\n",
              "      <td>0.0</td>\n",
              "      <td>0</td>\n",
              "      <td>0.0</td>\n",
              "    </tr>\n",
              "  </tbody>\n",
              "</table>\n",
              "</div>"
            ],
            "text/plain": [
              "                                            school_name  ...  dropout_pct\n",
              "8732  NEW VISIONS CHARTER HIGH SCHOOL FOR ADVANCED M...  ...          0.0\n",
              "8735  NEW VISIONS CHARTER HIGH SCHOOL FOR ADVANCED M...  ...          0.0\n",
              "8736  NEW VISIONS CHARTER HIGH SCHOOL FOR ADVANCED M...  ...          0.0\n",
              "8737  NEW VISIONS CHARTER HIGH SCHOOL FOR ADVANCED M...  ...          0.0\n",
              "8742  NEW VISIONS CHARTER HIGH SCHOOL FOR ADVANCED M...  ...          0.0\n",
              "8745  NEW VISIONS CHARTER HIGH SCHOOL FOR ADVANCED M...  ...          0.0\n",
              "8746  NEW VISIONS CHARTER HIGH SCHOOL FOR ADVANCED M...  ...          0.0\n",
              "\n",
              "[7 rows x 15 columns]"
            ]
          },
          "metadata": {
            "tags": []
          },
          "execution_count": 20
        }
      ]
    },
    {
      "cell_type": "markdown",
      "metadata": {
        "id": "Rqak51d7dJdR",
        "colab_type": "text"
      },
      "source": [
        "**Correlation**"
      ]
    },
    {
      "cell_type": "code",
      "metadata": {
        "id": "WtDA_b08isQD",
        "colab_type": "code",
        "colab": {
          "base_uri": "https://localhost:8080/",
          "height": 377
        },
        "outputId": "011b3bbc-37d2-409f-c4c3-ede0d3795213"
      },
      "source": [
        "df_data.corr()"
      ],
      "execution_count": 21,
      "outputs": [
        {
          "output_type": "execute_result",
          "data": {
            "text/html": [
              "<div>\n",
              "<style scoped>\n",
              "    .dataframe tbody tr th:only-of-type {\n",
              "        vertical-align: middle;\n",
              "    }\n",
              "\n",
              "    .dataframe tbody tr th {\n",
              "        vertical-align: top;\n",
              "    }\n",
              "\n",
              "    .dataframe thead th {\n",
              "        text-align: right;\n",
              "    }\n",
              "</style>\n",
              "<table border=\"1\" class=\"dataframe\">\n",
              "  <thead>\n",
              "    <tr style=\"text-align: right;\">\n",
              "      <th></th>\n",
              "      <th>nrc_code</th>\n",
              "      <th>group_code</th>\n",
              "      <th>enroll_cnt</th>\n",
              "      <th>grad_cnt</th>\n",
              "      <th>grad_pct</th>\n",
              "      <th>still_enr_cnt</th>\n",
              "      <th>still_enr_pct</th>\n",
              "      <th>ged_cnt</th>\n",
              "      <th>ged_pct</th>\n",
              "      <th>dropout_cnt</th>\n",
              "      <th>dropout_pct</th>\n",
              "    </tr>\n",
              "  </thead>\n",
              "  <tbody>\n",
              "    <tr>\n",
              "      <th>nrc_code</th>\n",
              "      <td>1.000000</td>\n",
              "      <td>-0.012743</td>\n",
              "      <td>-0.007816</td>\n",
              "      <td>0.029034</td>\n",
              "      <td>-0.002516</td>\n",
              "      <td>-0.173342</td>\n",
              "      <td>-0.207478</td>\n",
              "      <td>-0.120862</td>\n",
              "      <td>-0.120626</td>\n",
              "      <td>-0.152738</td>\n",
              "      <td>-0.222809</td>\n",
              "    </tr>\n",
              "    <tr>\n",
              "      <th>group_code</th>\n",
              "      <td>-0.012743</td>\n",
              "      <td>1.000000</td>\n",
              "      <td>-0.012791</td>\n",
              "      <td>-0.019098</td>\n",
              "      <td>-0.153626</td>\n",
              "      <td>0.020967</td>\n",
              "      <td>0.022826</td>\n",
              "      <td>0.007393</td>\n",
              "      <td>0.006293</td>\n",
              "      <td>0.019744</td>\n",
              "      <td>0.040647</td>\n",
              "    </tr>\n",
              "    <tr>\n",
              "      <th>enroll_cnt</th>\n",
              "      <td>-0.007816</td>\n",
              "      <td>-0.012791</td>\n",
              "      <td>1.000000</td>\n",
              "      <td>0.986817</td>\n",
              "      <td>0.417744</td>\n",
              "      <td>0.613474</td>\n",
              "      <td>0.060853</td>\n",
              "      <td>0.425015</td>\n",
              "      <td>0.037794</td>\n",
              "      <td>0.610403</td>\n",
              "      <td>0.071193</td>\n",
              "    </tr>\n",
              "    <tr>\n",
              "      <th>grad_cnt</th>\n",
              "      <td>0.029034</td>\n",
              "      <td>-0.019098</td>\n",
              "      <td>0.986817</td>\n",
              "      <td>1.000000</td>\n",
              "      <td>0.441188</td>\n",
              "      <td>0.489590</td>\n",
              "      <td>-0.021936</td>\n",
              "      <td>0.359093</td>\n",
              "      <td>0.002971</td>\n",
              "      <td>0.493902</td>\n",
              "      <td>-0.001314</td>\n",
              "    </tr>\n",
              "    <tr>\n",
              "      <th>grad_pct</th>\n",
              "      <td>-0.002516</td>\n",
              "      <td>-0.153626</td>\n",
              "      <td>0.417744</td>\n",
              "      <td>0.441188</td>\n",
              "      <td>1.000000</td>\n",
              "      <td>0.113296</td>\n",
              "      <td>0.019389</td>\n",
              "      <td>0.113691</td>\n",
              "      <td>0.041897</td>\n",
              "      <td>0.148238</td>\n",
              "      <td>0.105065</td>\n",
              "    </tr>\n",
              "    <tr>\n",
              "      <th>still_enr_cnt</th>\n",
              "      <td>-0.173342</td>\n",
              "      <td>0.020967</td>\n",
              "      <td>0.613474</td>\n",
              "      <td>0.489590</td>\n",
              "      <td>0.113296</td>\n",
              "      <td>1.000000</td>\n",
              "      <td>0.516100</td>\n",
              "      <td>0.495624</td>\n",
              "      <td>0.153610</td>\n",
              "      <td>0.722664</td>\n",
              "      <td>0.275558</td>\n",
              "    </tr>\n",
              "    <tr>\n",
              "      <th>still_enr_pct</th>\n",
              "      <td>-0.207478</td>\n",
              "      <td>0.022826</td>\n",
              "      <td>0.060853</td>\n",
              "      <td>-0.021936</td>\n",
              "      <td>0.019389</td>\n",
              "      <td>0.516100</td>\n",
              "      <td>1.000000</td>\n",
              "      <td>0.195052</td>\n",
              "      <td>0.246310</td>\n",
              "      <td>0.236867</td>\n",
              "      <td>0.429180</td>\n",
              "    </tr>\n",
              "    <tr>\n",
              "      <th>ged_cnt</th>\n",
              "      <td>-0.120862</td>\n",
              "      <td>0.007393</td>\n",
              "      <td>0.425015</td>\n",
              "      <td>0.359093</td>\n",
              "      <td>0.113691</td>\n",
              "      <td>0.495624</td>\n",
              "      <td>0.195052</td>\n",
              "      <td>1.000000</td>\n",
              "      <td>0.490174</td>\n",
              "      <td>0.443333</td>\n",
              "      <td>0.195330</td>\n",
              "    </tr>\n",
              "    <tr>\n",
              "      <th>ged_pct</th>\n",
              "      <td>-0.120626</td>\n",
              "      <td>0.006293</td>\n",
              "      <td>0.037794</td>\n",
              "      <td>0.002971</td>\n",
              "      <td>0.041897</td>\n",
              "      <td>0.153610</td>\n",
              "      <td>0.246310</td>\n",
              "      <td>0.490174</td>\n",
              "      <td>1.000000</td>\n",
              "      <td>0.132259</td>\n",
              "      <td>0.266380</td>\n",
              "    </tr>\n",
              "    <tr>\n",
              "      <th>dropout_cnt</th>\n",
              "      <td>-0.152738</td>\n",
              "      <td>0.019744</td>\n",
              "      <td>0.610403</td>\n",
              "      <td>0.493902</td>\n",
              "      <td>0.148238</td>\n",
              "      <td>0.722664</td>\n",
              "      <td>0.236867</td>\n",
              "      <td>0.443333</td>\n",
              "      <td>0.132259</td>\n",
              "      <td>1.000000</td>\n",
              "      <td>0.446383</td>\n",
              "    </tr>\n",
              "    <tr>\n",
              "      <th>dropout_pct</th>\n",
              "      <td>-0.222809</td>\n",
              "      <td>0.040647</td>\n",
              "      <td>0.071193</td>\n",
              "      <td>-0.001314</td>\n",
              "      <td>0.105065</td>\n",
              "      <td>0.275558</td>\n",
              "      <td>0.429180</td>\n",
              "      <td>0.195330</td>\n",
              "      <td>0.266380</td>\n",
              "      <td>0.446383</td>\n",
              "      <td>1.000000</td>\n",
              "    </tr>\n",
              "  </tbody>\n",
              "</table>\n",
              "</div>"
            ],
            "text/plain": [
              "               nrc_code  group_code  ...  dropout_cnt  dropout_pct\n",
              "nrc_code       1.000000   -0.012743  ...    -0.152738    -0.222809\n",
              "group_code    -0.012743    1.000000  ...     0.019744     0.040647\n",
              "enroll_cnt    -0.007816   -0.012791  ...     0.610403     0.071193\n",
              "grad_cnt       0.029034   -0.019098  ...     0.493902    -0.001314\n",
              "grad_pct      -0.002516   -0.153626  ...     0.148238     0.105065\n",
              "still_enr_cnt -0.173342    0.020967  ...     0.722664     0.275558\n",
              "still_enr_pct -0.207478    0.022826  ...     0.236867     0.429180\n",
              "ged_cnt       -0.120862    0.007393  ...     0.443333     0.195330\n",
              "ged_pct       -0.120626    0.006293  ...     0.132259     0.266380\n",
              "dropout_cnt   -0.152738    0.019744  ...     1.000000     0.446383\n",
              "dropout_pct   -0.222809    0.040647  ...     0.446383     1.000000\n",
              "\n",
              "[11 rows x 11 columns]"
            ]
          },
          "metadata": {
            "tags": []
          },
          "execution_count": 21
        }
      ]
    },
    {
      "cell_type": "code",
      "metadata": {
        "id": "4Hq8pwmjdfKG",
        "colab_type": "code",
        "colab": {
          "base_uri": "https://localhost:8080/",
          "height": 700
        },
        "outputId": "65007d53-5d23-4595-a984-c88597434a7d"
      },
      "source": [
        "fig, ax = plt.subplots(figsize=(13, 11))\n",
        "sb.heatmap(df_data.corr(),annot=True)\n",
        "plt.show()"
      ],
      "execution_count": 22,
      "outputs": [
        {
          "output_type": "display_data",
          "data": {
            "image/png": "[encoded data removed]",
            "text/plain": [
              "<Figure size 936x792 with 2 Axes>"
            ]
          },
          "metadata": {
            "tags": [],
            "needs_background": "light"
          }
        }
      ]
    },
    {
      "cell_type": "markdown",
      "metadata": {
        "id": "xX3z9YBknBRW",
        "colab_type": "text"
      },
      "source": [
        "**Students group visualization**"
      ]
    },
    {
      "cell_type": "code",
      "metadata": {
        "id": "7stR3cWYrwpq",
        "colab_type": "code",
        "colab": {
          "base_uri": "https://localhost:8080/",
          "height": 141
        },
        "outputId": "39956ee0-1ac2-49ec-f4f4-aeb51c3f0c01"
      },
      "source": [
        "df_data['group_name'].unique()"
      ],
      "execution_count": null,
      "outputs": [
        {
          "output_type": "execute_result",
          "data": {
            "text/plain": [
              "array(['Female', 'Male', 'American Indian/Alaska Native', 'Black',\n",
              "       'Hispanic', 'Asian/Pacific Islander', 'White', 'Multiracial',\n",
              "       'General Education Students', 'Students with Disabilities',\n",
              "       'Not English Language Learner', 'English Language Learner',\n",
              "       'Formerly English Language Learner', 'Economically Disadvantaged',\n",
              "       'Not Economically Disadvantaged', 'Homeless', 'Not Homeless'],\n",
              "      dtype=object)"
            ]
          },
          "metadata": {
            "tags": []
          },
          "execution_count": 9
        }
      ]
    },
    {
      "cell_type": "code",
      "metadata": {
        "id": "rOKqXPYsdbhK",
        "colab_type": "code",
        "colab": {
          "base_uri": "https://localhost:8080/",
          "height": 34
        },
        "outputId": "6888145d-2907-4d23-f132-bc0fb9024e24"
      },
      "source": [
        "total_2015_cohort = (df_data[(df_data['group_name'] == 'Male')]['enroll_cnt'].sum()) + (df_data[(df_data['group_name'] == 'Female')]['enroll_cnt'].sum())\n",
        "\n",
        "print ('Total 2015 Cohort students = ', total_2015_cohort)"
      ],
      "execution_count": null,
      "outputs": [
        {
          "output_type": "stream",
          "text": [
            "Total 2015 Cohort students =  199631\n"
          ],
          "name": "stdout"
        }
      ]
    },
    {
      "cell_type": "code",
      "metadata": {
        "id": "1y6nua6nvzz5",
        "colab_type": "code",
        "colab": {
          "base_uri": "https://localhost:8080/",
          "height": 264
        },
        "outputId": "3105e966-7f0b-426f-a995-2a41b9d6b2be"
      },
      "source": [
        "# Gender\n",
        "\n",
        "df_data['Gender'] = ['Male' if grp=='Male' else 'Female' if grp=='Female' else None \\\n",
        "                         for grp in (df_data['group_name'])]\n",
        "\n",
        "male = df_data[(df_data['Gender'] == 'Male')]['dropout_cnt'].sum()\n",
        "female = df_data[(df_data['Gender'] == 'Female')]['dropout_cnt'].sum()\n",
        "\n",
        "pie_data = [male, female]\n",
        "pie_labels = ['Male = '+ str(male), 'Female = '+ str(female)]\n",
        "\n",
        "plt.pie(pie_data, labels=pie_labels, labeldistance=1.05, startangle=90)\n",
        "plt.title('Dropout distribution by Gender')\n",
        "\n",
        "plt.show()"
      ],
      "execution_count": null,
      "outputs": [
        {
          "output_type": "display_data",
          "data": {
            "image/png": "[encoded data removed]",
            "text/plain": [
              "<Figure size 432x288 with 1 Axes>"
            ]
          },
          "metadata": {
            "tags": []
          }
        }
      ]
    },
    {
      "cell_type": "code",
      "metadata": {
        "id": "tlHKm7QJP8HC",
        "colab_type": "code",
        "colab": {
          "base_uri": "https://localhost:8080/",
          "height": 680
        },
        "outputId": "6dbb39fb-4823-4436-aea0-ce2b35026ae2"
      },
      "source": [
        "# all groups\n",
        "\n",
        "stud_grp = df_data.groupby('group_name')['dropout_cnt'].sum()\n",
        "\n",
        "stud_grp.plot(kind='bar', figsize=(11,8), color='maroon')\n",
        "\n",
        "plt.xlabel('Student Group')\n",
        "plt.ylabel('Dropout Count')\n",
        "plt.title(\"Dropout count vs Student Group\")\n",
        "\n",
        "plt.show()"
      ],
      "execution_count": null,
      "outputs": [
        {
          "output_type": "display_data",
          "data": {
            "image/png": "[encoded data removed]",
            "text/plain": [
              "<Figure size 792x576 with 1 Axes>"
            ]
          },
          "metadata": {
            "tags": [],
            "needs_background": "light"
          }
        }
      ]
    },
    {
      "cell_type": "code",
      "metadata": {
        "id": "pPSl8BuPxSxd",
        "colab_type": "code",
        "colab": {}
      },
      "source": [
        "# Ethnic Group\n",
        "\n",
        "df_data['Ethnicity'] = ['Black' if grp==5 else 'Hispanic' if grp==6 else 'Asian' if grp==7 else 'White' if grp==8 \\\n",
        "                        else 'American Indian' if grp==4 else 'Multiracial' if grp==9 else None \\\n",
        "                         for grp in (df_data['group_code'])]"
      ],
      "execution_count": null,
      "outputs": []
    },
    {
      "cell_type": "code",
      "metadata": {
        "id": "TMxfxUbKtWFv",
        "colab_type": "code",
        "colab": {
          "base_uri": "https://localhost:8080/",
          "height": 238
        },
        "outputId": "84c43827-74f8-4c7c-82c4-cc12ec0d68f9"
      },
      "source": [
        "# set width of bar\n",
        "barWidth = 0.4\n",
        " \n",
        "# set height of bar\n",
        "enroll = df_data.groupby('group_name')['enroll_cnt'].sum()\n",
        "grad = df_data.groupby('group_name')['grad_cnt'].sum()\n",
        "drop = df_data.groupby('group_name')['dropout_cnt'].sum()\n",
        " \n",
        "# Set position of bar on X axis\n",
        "x = np.arange(len(df_data.('Ethnicity').unique()))\n",
        "r2 = [x + barWidth for x in r1]\n",
        "r3 = [x + barWidth for x in r2]\n",
        " \n",
        "# Make the plot\n",
        "plt.bar(x, df_data.loc[df_data['Ethnicity'] == 'men', 'count'], color='#7f6d5f', width=barWidth, edgecolor='white', label='var1')\n",
        "plt.bar(r2, grad, color='#557f2d', width=barWidth, edgecolor='white', label='var2')\n",
        "plt.bar(r3, drop, color='#2d7f5e', width=barWidth, edgecolor='white', label='var3')\n",
        " \n",
        "# Add xticks on the middle of the group bars\n",
        "#plt.xlabel('group', fontweight='bold')\n",
        "#plt.xticks([r + barWidth for r in range(len(enroll))], df_data.groupby('group_name'))\n",
        " \n",
        "# Create legend & Show graphic\n",
        "plt.legend()\n",
        "plt.show()\n",
        "\n",
        "\n",
        "#\n",
        "#stud_grp = df_data.groupby('Ethnicity')['dropout_cnt'].sum()\n",
        "#\n",
        "#stud_grp.plot(kind='bar', figsize=(10,8), color='blue')\n",
        "#\n",
        "#plt.xlabel('Ethnicity')\n",
        "#plt.ylabel('Dropout Count')\n",
        "#plt.title('Dropout count vs Ethnicity')\n",
        "#\n",
        "#plt.show()"
      ],
      "execution_count": null,
      "outputs": [
        {
          "output_type": "error",
          "ename": "TypeError",
          "evalue": "ignored",
          "traceback": [
            "\u001b[0;31m---------------------------------------------------------------------------\u001b[0m",
            "\u001b[0;31mTypeError\u001b[0m                                 Traceback (most recent call last)",
            "\u001b[0;32m<ipython-input-13-99f082f39e7e>\u001b[0m in \u001b[0;36m<module>\u001b[0;34m()\u001b[0m\n\u001b[1;32m     17\u001b[0m \u001b[0;34m\u001b[0m\u001b[0m\n\u001b[1;32m     18\u001b[0m \u001b[0;31m# Make the plot\u001b[0m\u001b[0;34m\u001b[0m\u001b[0;34m\u001b[0m\u001b[0;34m\u001b[0m\u001b[0m\n\u001b[0;32m---> 19\u001b[0;31m \u001b[0mplt\u001b[0m\u001b[0;34m.\u001b[0m\u001b[0mbarh\u001b[0m\u001b[0;34m(\u001b[0m\u001b[0mr1\u001b[0m\u001b[0;34m,\u001b[0m \u001b[0menroll\u001b[0m\u001b[0;34m,\u001b[0m \u001b[0mcolor\u001b[0m\u001b[0;34m=\u001b[0m\u001b[0;34m'#7f6d5f'\u001b[0m\u001b[0;34m,\u001b[0m \u001b[0mwidth\u001b[0m\u001b[0;34m=\u001b[0m\u001b[0mbarWidth\u001b[0m\u001b[0;34m,\u001b[0m \u001b[0medgecolor\u001b[0m\u001b[0;34m=\u001b[0m\u001b[0;34m'white'\u001b[0m\u001b[0;34m,\u001b[0m \u001b[0mlabel\u001b[0m\u001b[0;34m=\u001b[0m\u001b[0;34m'var1'\u001b[0m\u001b[0;34m)\u001b[0m\u001b[0;34m\u001b[0m\u001b[0;34m\u001b[0m\u001b[0m\n\u001b[0m\u001b[1;32m     20\u001b[0m \u001b[0mplt\u001b[0m\u001b[0;34m.\u001b[0m\u001b[0mbarh\u001b[0m\u001b[0;34m(\u001b[0m\u001b[0mr2\u001b[0m\u001b[0;34m,\u001b[0m \u001b[0mgrad\u001b[0m\u001b[0;34m,\u001b[0m \u001b[0mcolor\u001b[0m\u001b[0;34m=\u001b[0m\u001b[0;34m'#557f2d'\u001b[0m\u001b[0;34m,\u001b[0m \u001b[0mwidth\u001b[0m\u001b[0;34m=\u001b[0m\u001b[0mbarWidth\u001b[0m\u001b[0;34m,\u001b[0m \u001b[0medgecolor\u001b[0m\u001b[0;34m=\u001b[0m\u001b[0;34m'white'\u001b[0m\u001b[0;34m,\u001b[0m \u001b[0mlabel\u001b[0m\u001b[0;34m=\u001b[0m\u001b[0;34m'var2'\u001b[0m\u001b[0;34m)\u001b[0m\u001b[0;34m\u001b[0m\u001b[0;34m\u001b[0m\u001b[0m\n\u001b[1;32m     21\u001b[0m \u001b[0mplt\u001b[0m\u001b[0;34m.\u001b[0m\u001b[0mbarh\u001b[0m\u001b[0;34m(\u001b[0m\u001b[0mr3\u001b[0m\u001b[0;34m,\u001b[0m \u001b[0mdrop\u001b[0m\u001b[0;34m,\u001b[0m \u001b[0mcolor\u001b[0m\u001b[0;34m=\u001b[0m\u001b[0;34m'#2d7f5e'\u001b[0m\u001b[0;34m,\u001b[0m \u001b[0mwidth\u001b[0m\u001b[0;34m=\u001b[0m\u001b[0mbarWidth\u001b[0m\u001b[0;34m,\u001b[0m \u001b[0medgecolor\u001b[0m\u001b[0;34m=\u001b[0m\u001b[0;34m'white'\u001b[0m\u001b[0;34m,\u001b[0m \u001b[0mlabel\u001b[0m\u001b[0;34m=\u001b[0m\u001b[0;34m'var3'\u001b[0m\u001b[0;34m)\u001b[0m\u001b[0;34m\u001b[0m\u001b[0;34m\u001b[0m\u001b[0m\n",
            "\u001b[0;31mTypeError\u001b[0m: barh() got multiple values for argument 'width'"
          ]
        }
      ]
    },
    {
      "cell_type": "code",
      "metadata": {
        "id": "oUkt-J0UuDMn",
        "colab_type": "code",
        "colab": {
          "base_uri": "https://localhost:8080/",
          "height": 450
        },
        "outputId": "f55ff3e5-bf44-430e-e551-01d9edb9c28f"
      },
      "source": [
        "# English Language Learners\n",
        "\n",
        "df_data['ELL'] = ['ELL' if grp=='English Language Learner' else 'Non-ELL' if grp=='Not English Language Learner' else 'Former ELL' if grp=='Formerly English Language Learner' else None \\\n",
        "                         for grp in (df_data['subgroup_name'])]\n",
        "\n",
        "stud_grp = df_data.groupby('ELL')['dropout_cnt'].sum()\n",
        "\n",
        "stud_grp.plot(kind='bar', figsize=(8,6), color='blue')\n",
        "\n",
        "plt.xlabel('English Language Learners')\n",
        "plt.ylabel('Dropout Count')\n",
        "plt.title('Dropout count vs ELL')\n",
        "\n",
        "plt.show()"
      ],
      "execution_count": null,
      "outputs": [
        {
          "output_type": "display_data",
          "data": {
            "image/png": "[encoded data removed]",
            "text/plain": [
              "<Figure size 576x432 with 1 Axes>"
            ]
          },
          "metadata": {
            "tags": [],
            "needs_background": "light"
          }
        }
      ]
    },
    {
      "cell_type": "code",
      "metadata": {
        "id": "8XRQgOVMuzR5",
        "colab_type": "code",
        "colab": {
          "base_uri": "https://localhost:8080/",
          "height": 264
        },
        "outputId": "7f14b148-76eb-4153-f73e-b8b42a8d11ff"
      },
      "source": [
        "# Migrants\n",
        "\n",
        "df_data['Migrants'] = ['Migrant' if grp=='Migrant' else 'Not Migrant' if grp=='Not Migrant' else None \\\n",
        "                         for grp in (df_data['subgroup_name'])]\n",
        "\n",
        "migrant = df_data[(df_data['Migrants'] == 'Migrant')]['dropout_cnt'].sum()\n",
        "non_migrant = df_data[(df_data['Migrants'] == 'Not Migrant')]['dropout_cnt'].sum()\n",
        "\n",
        "pie_data = [migrant, non_migrant]\n",
        "pie_labels = ['Migrant = '+ str(migrant), 'Non-Migrant = '+ str(non_migrant)]\n",
        "\n",
        "plt.pie(pie_data, labels=pie_labels, labeldistance=1.05, startangle=90)\n",
        "plt.title('Migrants Grouping')\n",
        "\n",
        "plt.show()"
      ],
      "execution_count": null,
      "outputs": [
        {
          "output_type": "display_data",
          "data": {
            "image/png": "[encoded data removed]",
            "text/plain": [
              "<Figure size 432x288 with 1 Axes>"
            ]
          },
          "metadata": {
            "tags": []
          }
        }
      ]
    },
    {
      "cell_type": "code",
      "metadata": {
        "id": "HN__fKgbvH4v",
        "colab_type": "code",
        "colab": {
          "base_uri": "https://localhost:8080/",
          "height": 456
        },
        "outputId": "7beb9d25-475e-47ad-e4e1-fe3b5dbca25b"
      },
      "source": [
        "# Economic Background\n",
        "\n",
        "df_data['Economy'] = ['High Income' if grp=='Not Economically Disadvantaged' else 'Low Income' if grp=='Economically Disadvantaged' else None \\\n",
        "                         for grp in (df_data['subgroup_name'])]\n",
        "\n",
        "stud_grp = df_data.groupby('Economy')['dropout_cnt'].sum()\n",
        "\n",
        "stud_grp.plot(kind='bar', figsize=(8,6), color='green')\n",
        "\n",
        "plt.xlabel('Economy')\n",
        "plt.ylabel('Dropout Count')\n",
        "plt.title('Dropout count vs Economy')\n",
        "\n",
        "plt.show()"
      ],
      "execution_count": null,
      "outputs": [
        {
          "output_type": "display_data",
          "data": {
            "image/png": "[encoded data removed]",
            "text/plain": [
              "<Figure size 576x432 with 1 Axes>"
            ]
          },
          "metadata": {
            "tags": [],
            "needs_background": "light"
          }
        }
      ]
    },
    {
      "cell_type": "code",
      "metadata": {
        "id": "7AWcnzAsp7Qu",
        "colab_type": "code",
        "colab": {}
      },
      "source": [
        ""
      ],
      "execution_count": null,
      "outputs": []
    }
  ]
}